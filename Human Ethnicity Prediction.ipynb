{
 "cells": [
  {
   "cell_type": "markdown",
   "metadata": {
    "_uuid": "7d9697116fc8fae273ccaa936b01e28e40ba72d2"
   },
   "source": [
    "# Import required packages"
   ]
  },
  {
   "cell_type": "code",
   "execution_count": 1,
   "metadata": {
    "_cell_guid": "b1076dfc-b9ad-4769-8c92-a6c4dae69d19",
    "_uuid": "8f2839f25d086af736a60e9eeb907d3b93b6e0e5"
   },
   "outputs": [
    {
     "name": "stderr",
     "output_type": "stream",
     "text": [
      "Using TensorFlow backend.\n"
     ]
    }
   ],
   "source": [
    "import numpy as np\n",
    "from tensorflow import keras\n",
    "from keras.models import Sequential\n",
    "from keras.layers import Conv2D, MaxPooling2D, ZeroPadding2D, Flatten, Dropout, Activation\n",
    "from keras.preprocessing.image import ImageDataGenerator"
   ]
  },
  {
   "cell_type": "markdown",
   "metadata": {
    "_uuid": "5b78373b3a8e3f60474907b6f2c194ed54ee0563"
   },
   "source": [
    "# Declare constants"
   ]
  },
  {
   "cell_type": "code",
   "execution_count": 2,
   "metadata": {
    "_uuid": "db42b56ff600fd75b71623944d8346f49139b49a"
   },
   "outputs": [],
   "source": [
    "IMG_DIR = '../input/utkface'\n",
    "IMG_SIZE = 224\n",
    "CHANNELS = 3\n",
    "NUM_CLASSES = 5\n",
    "BATCH_SIZE = 32\n",
    "TRAIN_SIZE = 14223\n",
    "TEST_SIZE = 4741\n",
    "NUM_EPOCHS = 50"
   ]
  },
  {
   "cell_type": "markdown",
   "metadata": {
    "_uuid": "69f61eb7d01d53d379fe309302470a517aeb6c5c"
   },
   "source": [
    "# Create image generators"
   ]
  },
  {
   "cell_type": "code",
   "execution_count": 3,
   "metadata": {
    "_uuid": "800e44052b94454cc76f84718fe7cbf7e50416a7"
   },
   "outputs": [
    {
     "name": "stdout",
     "output_type": "stream",
     "text": [
      "Found 14223 images belonging to 5 classes.\n",
      "Found 4741 images belonging to 5 classes.\n",
      "Found 4741 images belonging to 5 classes.\n"
     ]
    }
   ],
   "source": [
    "data_aug_gen = ImageDataGenerator(rescale = 1./255,\n",
    "                                  horizontal_flip = True)\n",
    "train_gen = data_aug_gen.flow_from_directory(directory = IMG_DIR + '/Train',\n",
    "                                             target_size = (IMG_SIZE, IMG_SIZE))\n",
    "\n",
    "data_no_aug_gen = ImageDataGenerator(rescale = 1./255)\n",
    "val_gen = data_no_aug_gen.flow_from_directory(directory = IMG_DIR + '/Val',\n",
    "                                              target_size = (IMG_SIZE, IMG_SIZE),\n",
    "                                              shuffle = False)\n",
    "test_gen = data_no_aug_gen.flow_from_directory(directory = IMG_DIR + '/Test',\n",
    "                                              target_size = (IMG_SIZE, IMG_SIZE),\n",
    "                                              shuffle = False)"
   ]
  },
  {
   "cell_type": "markdown",
   "metadata": {
    "_uuid": "bd3385db14d66505517875a16da30b8637088bf1"
   },
   "source": [
    "# Specify model"
   ]
  },
  {
   "cell_type": "code",
   "execution_count": 4,
   "metadata": {
    "_uuid": "7b6a64d609620d5615a860577565900a43d22c2a"
   },
   "outputs": [
    {
     "name": "stdout",
     "output_type": "stream",
     "text": [
      "_________________________________________________________________\n",
      "Layer (type)                 Output Shape              Param #   \n",
      "=================================================================\n",
      "sequential_1 (Sequential)    (None, 1, 1, 4096)        134260544 \n",
      "_________________________________________________________________\n",
      "conv2d_17 (Conv2D)           (None, 1, 1, 5)           20485     \n",
      "_________________________________________________________________\n",
      "flatten_2 (Flatten)          (None, 5)                 0         \n",
      "_________________________________________________________________\n",
      "activation_2 (Activation)    (None, 5)                 0         \n",
      "=================================================================\n",
      "Total params: 134,281,029\n",
      "Trainable params: 20,485\n",
      "Non-trainable params: 134,260,544\n",
      "_________________________________________________________________\n"
     ]
    }
   ],
   "source": [
    "VGGFace = Sequential()\n",
    "\n",
    "VGGFace.add(ZeroPadding2D(input_shape = (IMG_SIZE, IMG_SIZE, CHANNELS)))\n",
    "VGGFace.add(Conv2D(64, (3, 3), activation = 'relu'))\n",
    "VGGFace.add(ZeroPadding2D())\n",
    "VGGFace.add(Conv2D(64, (3, 3), activation = 'relu'))\n",
    "VGGFace.add(MaxPooling2D((2, 2), strides = 2))\n",
    "\n",
    "VGGFace.add(ZeroPadding2D())\n",
    "VGGFace.add(Conv2D(128, (3, 3), activation = 'relu'))\n",
    "VGGFace.add(ZeroPadding2D())\n",
    "VGGFace.add(Conv2D(128, (3, 3), activation = 'relu'))\n",
    "VGGFace.add(MaxPooling2D((2, 2), strides = 2))\n",
    "\n",
    "VGGFace.add(ZeroPadding2D())\n",
    "VGGFace.add(Conv2D(256, (3, 3), activation = 'relu'))\n",
    "VGGFace.add(ZeroPadding2D())\n",
    "VGGFace.add(Conv2D(256, (3, 3), activation = 'relu'))\n",
    "VGGFace.add(ZeroPadding2D())\n",
    "VGGFace.add(Conv2D(256, (3, 3), activation = 'relu'))\n",
    "VGGFace.add(MaxPooling2D((2, 2), strides = 2))\n",
    "\n",
    "VGGFace.add(ZeroPadding2D())\n",
    "VGGFace.add(Conv2D(512, (3, 3), activation = 'relu'))\n",
    "VGGFace.add(ZeroPadding2D())\n",
    "VGGFace.add(Conv2D(512, (3, 3), activation = 'relu'))\n",
    "VGGFace.add(ZeroPadding2D())\n",
    "VGGFace.add(Conv2D(512, (3, 3), activation = 'relu'))\n",
    "VGGFace.add(MaxPooling2D((2, 2), strides = 2))\n",
    "\n",
    "VGGFace.add(ZeroPadding2D())\n",
    "VGGFace.add(Conv2D(512, (3, 3), activation = 'relu'))\n",
    "VGGFace.add(ZeroPadding2D())\n",
    "VGGFace.add(Conv2D(512, (3, 3), activation = 'relu'))\n",
    "VGGFace.add(ZeroPadding2D())\n",
    "VGGFace.add(Conv2D(512, (3, 3), activation = 'relu'))\n",
    "VGGFace.add(MaxPooling2D((2, 2), strides = 2))\n",
    "\n",
    "VGGFace.add(Conv2D(4096, (7, 7), activation = 'relu'))\n",
    "VGGFace.add(Dropout(0.5))\n",
    "\n",
    "VGGFace.add(Conv2D(4096, (1, 1), activation = 'relu'))\n",
    "VGGFace.add(Dropout(0.5))\n",
    "\n",
    "VGGFace.add(Conv2D(2622, (1, 1)))\n",
    "VGGFace.add(Flatten())\n",
    "VGGFace.add(Activation('softmax'))\n",
    "\n",
    "VGGFace.load_weights('../input/vgg_face_weights.h5')\n",
    "\n",
    "VGGFace.pop()\n",
    "VGGFace.pop()\n",
    "VGGFace.pop()\n",
    "\n",
    "model = Sequential()\n",
    "\n",
    "model.add(VGGFace)\n",
    "model.add(Conv2D(NUM_CLASSES, (1, 1)))\n",
    "model.add(Flatten())\n",
    "model.add(Activation('softmax'))\n",
    "\n",
    "model.layers[0].trainable = False\n",
    "\n",
    "model.summary()"
   ]
  },
  {
   "cell_type": "markdown",
   "metadata": {
    "_uuid": "b4da284d10314862cb06515874b2624182af1c28"
   },
   "source": [
    "# Compile model and fit to training set"
   ]
  },
  {
   "cell_type": "code",
   "execution_count": 5,
   "metadata": {
    "_uuid": "64516279ae7c6c3b35a00d8e0b55f147d46db663",
    "scrolled": false
   },
   "outputs": [
    {
     "name": "stdout",
     "output_type": "stream",
     "text": [
      "Epoch 1/50\n",
      "445/445 [==============================] - 246s 552ms/step - loss: 0.9717 - acc: 0.6978 - val_loss: 0.7641 - val_acc: 0.7951\n",
      "Epoch 2/50\n",
      "445/445 [==============================] - 239s 537ms/step - loss: 0.6574 - acc: 0.8050 - val_loss: 0.6397 - val_acc: 0.8094\n",
      "Epoch 3/50\n",
      "445/445 [==============================] - 239s 537ms/step - loss: 0.5930 - acc: 0.8133 - val_loss: 0.5933 - val_acc: 0.8140\n",
      "Epoch 4/50\n",
      "445/445 [==============================] - 239s 536ms/step - loss: 0.5605 - acc: 0.8176 - val_loss: 0.5681 - val_acc: 0.8216\n",
      "Epoch 5/50\n",
      "445/445 [==============================] - 239s 537ms/step - loss: 0.5468 - acc: 0.8177 - val_loss: 0.5540 - val_acc: 0.8244\n",
      "Epoch 6/50\n",
      "445/445 [==============================] - 242s 543ms/step - loss: 0.5279 - acc: 0.8237 - val_loss: 0.5425 - val_acc: 0.8258\n",
      "Epoch 7/50\n",
      "445/445 [==============================] - 239s 538ms/step - loss: 0.5181 - acc: 0.8271 - val_loss: 0.5356 - val_acc: 0.8288\n",
      "Epoch 8/50\n",
      "445/445 [==============================] - 238s 534ms/step - loss: 0.5064 - acc: 0.8326 - val_loss: 0.5292 - val_acc: 0.8288\n",
      "Epoch 9/50\n",
      "445/445 [==============================] - 238s 534ms/step - loss: 0.5025 - acc: 0.8337 - val_loss: 0.5243 - val_acc: 0.8303\n",
      "Epoch 10/50\n",
      "445/445 [==============================] - 238s 534ms/step - loss: 0.4955 - acc: 0.8330 - val_loss: 0.5201 - val_acc: 0.8311\n",
      "Epoch 11/50\n",
      "445/445 [==============================] - 238s 534ms/step - loss: 0.4938 - acc: 0.8336 - val_loss: 0.5176 - val_acc: 0.8305\n",
      "Epoch 12/50\n",
      "445/445 [==============================] - 237s 533ms/step - loss: 0.4921 - acc: 0.8380 - val_loss: 0.5147 - val_acc: 0.8322\n",
      "Epoch 13/50\n",
      "445/445 [==============================] - 238s 534ms/step - loss: 0.4860 - acc: 0.8362 - val_loss: 0.5122 - val_acc: 0.8328\n",
      "Epoch 14/50\n",
      "445/445 [==============================] - 238s 534ms/step - loss: 0.4815 - acc: 0.8381 - val_loss: 0.5125 - val_acc: 0.8318\n",
      "Epoch 15/50\n",
      "445/445 [==============================] - 237s 533ms/step - loss: 0.4833 - acc: 0.8362 - val_loss: 0.5115 - val_acc: 0.8311\n",
      "Epoch 16/50\n",
      "445/445 [==============================] - 237s 534ms/step - loss: 0.4768 - acc: 0.8384 - val_loss: 0.5095 - val_acc: 0.8320\n",
      "Epoch 17/50\n",
      "445/445 [==============================] - 238s 534ms/step - loss: 0.4755 - acc: 0.8389 - val_loss: 0.5070 - val_acc: 0.8318\n",
      "Epoch 18/50\n",
      "445/445 [==============================] - 238s 534ms/step - loss: 0.4699 - acc: 0.8436 - val_loss: 0.5071 - val_acc: 0.8324\n",
      "Epoch 19/50\n",
      "445/445 [==============================] - 237s 534ms/step - loss: 0.4689 - acc: 0.8423 - val_loss: 0.5062 - val_acc: 0.8324\n",
      "Epoch 20/50\n",
      "445/445 [==============================] - 238s 534ms/step - loss: 0.4711 - acc: 0.8416 - val_loss: 0.5035 - val_acc: 0.8328\n",
      "Epoch 21/50\n",
      "445/445 [==============================] - 237s 534ms/step - loss: 0.4672 - acc: 0.8407 - val_loss: 0.5024 - val_acc: 0.8341\n",
      "Epoch 22/50\n",
      "445/445 [==============================] - 238s 534ms/step - loss: 0.4622 - acc: 0.8422 - val_loss: 0.5032 - val_acc: 0.8343\n",
      "Epoch 23/50\n",
      "445/445 [==============================] - 238s 534ms/step - loss: 0.4590 - acc: 0.8438 - val_loss: 0.5022 - val_acc: 0.8322\n",
      "Epoch 24/50\n",
      "445/445 [==============================] - 237s 533ms/step - loss: 0.4606 - acc: 0.8459 - val_loss: 0.5023 - val_acc: 0.8351\n",
      "Epoch 25/50\n",
      "445/445 [==============================] - 238s 534ms/step - loss: 0.4593 - acc: 0.8429 - val_loss: 0.4998 - val_acc: 0.8336\n",
      "Epoch 26/50\n",
      "445/445 [==============================] - 238s 534ms/step - loss: 0.4570 - acc: 0.8429 - val_loss: 0.4998 - val_acc: 0.8341\n",
      "Epoch 27/50\n",
      "445/445 [==============================] - 237s 533ms/step - loss: 0.4547 - acc: 0.8450 - val_loss: 0.4995 - val_acc: 0.8328\n",
      "Epoch 28/50\n",
      "445/445 [==============================] - 238s 534ms/step - loss: 0.4524 - acc: 0.8449 - val_loss: 0.4990 - val_acc: 0.8343\n",
      "Epoch 29/50\n",
      "445/445 [==============================] - 237s 533ms/step - loss: 0.4524 - acc: 0.8460 - val_loss: 0.4986 - val_acc: 0.8343\n",
      "Epoch 30/50\n",
      "445/445 [==============================] - 237s 533ms/step - loss: 0.4505 - acc: 0.8471 - val_loss: 0.4986 - val_acc: 0.8330\n",
      "Epoch 31/50\n",
      "445/445 [==============================] - 238s 534ms/step - loss: 0.4513 - acc: 0.8485 - val_loss: 0.4992 - val_acc: 0.8353\n",
      "Epoch 32/50\n",
      "445/445 [==============================] - 237s 534ms/step - loss: 0.4466 - acc: 0.8466 - val_loss: 0.4975 - val_acc: 0.8328\n",
      "Epoch 33/50\n",
      "445/445 [==============================] - 237s 533ms/step - loss: 0.4402 - acc: 0.8499 - val_loss: 0.4980 - val_acc: 0.8336\n",
      "Epoch 34/50\n",
      "445/445 [==============================] - 237s 533ms/step - loss: 0.4475 - acc: 0.8464 - val_loss: 0.4979 - val_acc: 0.8343\n",
      "Epoch 35/50\n",
      "445/445 [==============================] - 238s 534ms/step - loss: 0.4429 - acc: 0.8497 - val_loss: 0.4969 - val_acc: 0.8345\n",
      "Epoch 36/50\n",
      "445/445 [==============================] - 237s 533ms/step - loss: 0.4426 - acc: 0.8499 - val_loss: 0.4976 - val_acc: 0.8343\n",
      "Epoch 37/50\n",
      "445/445 [==============================] - 237s 533ms/step - loss: 0.4374 - acc: 0.8527 - val_loss: 0.4968 - val_acc: 0.8347\n",
      "Epoch 38/50\n",
      "445/445 [==============================] - 238s 534ms/step - loss: 0.4412 - acc: 0.8474 - val_loss: 0.4970 - val_acc: 0.8339\n",
      "Epoch 39/50\n",
      "445/445 [==============================] - 238s 534ms/step - loss: 0.4426 - acc: 0.8483 - val_loss: 0.4967 - val_acc: 0.8345\n",
      "Epoch 40/50\n",
      "445/445 [==============================] - 237s 533ms/step - loss: 0.4407 - acc: 0.8482 - val_loss: 0.4959 - val_acc: 0.8343\n",
      "Epoch 41/50\n",
      "445/445 [==============================] - 238s 534ms/step - loss: 0.4430 - acc: 0.8476 - val_loss: 0.4965 - val_acc: 0.8353\n",
      "Epoch 42/50\n",
      "445/445 [==============================] - 238s 534ms/step - loss: 0.4392 - acc: 0.8490 - val_loss: 0.4966 - val_acc: 0.8328\n",
      "Epoch 43/50\n",
      "445/445 [==============================] - 238s 534ms/step - loss: 0.4454 - acc: 0.8440 - val_loss: 0.4963 - val_acc: 0.8332\n",
      "Epoch 44/50\n",
      "445/445 [==============================] - 238s 535ms/step - loss: 0.4386 - acc: 0.8477 - val_loss: 0.4968 - val_acc: 0.8345\n",
      "Epoch 45/50\n",
      "445/445 [==============================] - 238s 535ms/step - loss: 0.4339 - acc: 0.8525 - val_loss: 0.4960 - val_acc: 0.8353\n",
      "Epoch 46/50\n",
      "445/445 [==============================] - 238s 534ms/step - loss: 0.4365 - acc: 0.8490 - val_loss: 0.4959 - val_acc: 0.8355\n",
      "Epoch 47/50\n",
      "445/445 [==============================] - 237s 533ms/step - loss: 0.4348 - acc: 0.8508 - val_loss: 0.4950 - val_acc: 0.8349\n",
      "Epoch 48/50\n",
      "445/445 [==============================] - 238s 534ms/step - loss: 0.4364 - acc: 0.8513 - val_loss: 0.4961 - val_acc: 0.8349\n",
      "Epoch 49/50\n",
      "445/445 [==============================] - 237s 533ms/step - loss: 0.4389 - acc: 0.8495 - val_loss: 0.4966 - val_acc: 0.8345\n",
      "Epoch 50/50\n",
      "445/445 [==============================] - 238s 534ms/step - loss: 0.4365 - acc: 0.8466 - val_loss: 0.4955 - val_acc: 0.8343\n"
     ]
    },
    {
     "data": {
      "text/plain": [
       "<keras.callbacks.History at 0x7feb1dbc3e80>"
      ]
     },
     "execution_count": 5,
     "metadata": {},
     "output_type": "execute_result"
    }
   ],
   "source": [
    "model.compile(optimizer = 'nadam', loss = keras.losses.categorical_crossentropy, metrics = ['accuracy'])\n",
    "model.fit_generator(train_gen, steps_per_epoch = TRAIN_SIZE // BATCH_SIZE + 1, epochs = NUM_EPOCHS, validation_data = val_gen, validation_steps = TEST_SIZE // BATCH_SIZE + 1)"
   ]
  },
  {
   "cell_type": "markdown",
   "metadata": {},
   "source": [
    "# Evaluate model on test set"
   ]
  },
  {
   "cell_type": "code",
   "execution_count": 6,
   "metadata": {
    "_uuid": "91a7f0b6abdee84a55a4a5504009c36cacbd5028",
    "scrolled": true
   },
   "outputs": [
    {
     "name": "stdout",
     "output_type": "stream",
     "text": [
      "Accuracy: 84.5%\n"
     ]
    }
   ],
   "source": [
    "loss, acc = model.evaluate_generator(test_gen, steps = TEST_SIZE // BATCH_SIZE + 1)\n",
    "print(\"Accuracy: %.1f%%\" % (100 * acc))"
   ]
  }
 ],
 "metadata": {
  "kernelspec": {
   "display_name": "Python 3",
   "language": "python",
   "name": "python3"
  },
  "language_info": {
   "codemirror_mode": {
    "name": "ipython",
    "version": 3
   },
   "file_extension": ".py",
   "mimetype": "text/x-python",
   "name": "python",
   "nbconvert_exporter": "python",
   "pygments_lexer": "ipython3",
   "version": "3.6.7"
  }
 },
 "nbformat": 4,
 "nbformat_minor": 1
}
